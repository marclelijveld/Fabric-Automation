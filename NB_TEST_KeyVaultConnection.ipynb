{
    "cells": [
        {
            "cell_type": "markdown",
            "id": "4bb8e5c6-d7a2-4d21-9ca7-d4da6b29e24d",
            "metadata": {
                "microsoft": {
                    "language": "python",
                    "language_group": "synapse_pyspark"
                },
                "nteract": {
                    "transient": {
                        "deleting": false
                    }
                }
            },
            "source": [
                "## Test Azure Key Vault connection\n",
                "\n",
                "This notebook validates whether it can successfully retrieve information from Azure Key Vault. Define the names of the secrets and the notebook will loop through each to see if it can fetch the information. The secret values will never be shown for security concerns. It will just validate the connection and return [REDACTED] in case it can retrieve the information. \n",
                "\n",
                "If your Key Vault is behind a firewall or any security implementation, it is recommended to add the Fabric workspace identity to the Key Vault permissions with read access. \n",
                "\n",
                "Consider reviewing this documentation:\n",
                "- [Public docs on Authentication in Azure Key Vault](https://learn.microsoft.com/en-us/azure/key-vault/general/authentication)\n",
                "- [Public docs on Fabric workspace identity](https://learn.microsoft.com/en-us/fabric/security/workspace-identity)\n"
            ]
        },
        {
            "cell_type": "code",
            "execution_count": 1,
            "id": "5ae5666b-dc06-44ae-be65-b80cc898f274",
            "metadata": {
                "microsoft": {
                    "language": "python",
                    "language_group": "synapse_pyspark"
                }
            },
            "outputs": [
                {
                    "data": {
                        "application/vnd.livy.statement-meta+json": {
                            "execution_finish_time": "2025-04-29T10:48:50.4909174Z",
                            "execution_start_time": "2025-04-29T10:48:50.0487327Z",
                            "livy_statement_state": "available",
                            "normalized_state": "finished",
                            "parent_msg_id": "6f46a1e3-4068-4566-961d-545443502309",
                            "queued_time": "2025-04-29T10:48:39.0942656Z",
                            "session_id": "18a30102-9cc4-408f-87e9-73c16a4e0691",
                            "session_start_time": "2025-04-29T10:48:39.0952699Z",
                            "spark_pool": null,
                            "state": "finished",
                            "statement_id": 3,
                            "statement_ids": [
                                3
                            ]
                        },
                        "text/plain": "StatementMeta(, 18a30102-9cc4-408f-87e9-73c16a4e0691, 3, Finished, Available, Finished)"
                    },
                    "metadata": {
                    },
                    "output_type": "display_data"
                }
            ],
            "source": [
                "# Import Fabric-specific utility functions for accessing secrets, files, and other notebook helpers\n",
                "from notebookutils import mssparkutils"
            ]
        },
        {
            "cell_type": "code",
            "execution_count": 2,
            "id": "12309c79-e0f6-492c-bf64-acda7214cb55",
            "metadata": {
                "microsoft": {
                    "language": "python",
                    "language_group": "synapse_pyspark"
                }
            },
            "outputs": [
                {
                    "data": {
                        "application/vnd.livy.statement-meta+json": {
                            "execution_finish_time": "2025-04-29T10:48:50.8296589Z",
                            "execution_start_time": "2025-04-29T10:48:50.4928826Z",
                            "livy_statement_state": "available",
                            "normalized_state": "finished",
                            "parent_msg_id": "8ba55f9c-23ee-4a45-992c-2928be1a7cdb",
                            "queued_time": "2025-04-29T10:48:39.0978456Z",
                            "session_id": "18a30102-9cc4-408f-87e9-73c16a4e0691",
                            "session_start_time": null,
                            "spark_pool": null,
                            "state": "finished",
                            "statement_id": 4,
                            "statement_ids": [
                                4
                            ]
                        },
                        "text/plain": "StatementMeta(, 18a30102-9cc4-408f-87e9-73c16a4e0691, 4, Finished, Available, Finished)"
                    },
                    "metadata": {
                    },
                    "output_type": "display_data"
                }
            ],
            "source": [
                "# Define Key Vault URL (can also be without 'https://' if preferred)\n",
                "keyvault_address = \"https://{insertkeyvaultname}.vault.azure.net/\"\n",
                "\n",
                "# List of secret names to retrieve\n",
                "secret_names = [\n",
                "    \"secret1\",\n",
                "    \"secret2\",\n",
                "    \"secret3\"\n",
                "]"
            ]
        },
        {
            "cell_type": "code",
            "execution_count": 3,
            "id": "0b1a20c6-3c4f-488e-8b32-3d58b07bfd12",
            "metadata": {
                "microsoft": {
                    "language": "python",
                    "language_group": "synapse_pyspark"
                }
            },
            "outputs": [
                {
                    "data": {
                        "application/vnd.livy.statement-meta+json": {
                            "execution_finish_time": "2025-04-29T10:48:51.1564934Z",
                            "execution_start_time": "2025-04-29T10:48:50.8316158Z",
                            "livy_statement_state": "available",
                            "normalized_state": "finished",
                            "parent_msg_id": "cd12dfc4-d333-45bc-9709-6b047a1ca521",
                            "queued_time": "2025-04-29T10:48:39.1012126Z",
                            "session_id": "18a30102-9cc4-408f-87e9-73c16a4e0691",
                            "session_start_time": null,
                            "spark_pool": null,
                            "state": "finished",
                            "statement_id": 5,
                            "statement_ids": [
                                5
                            ]
                        },
                        "text/plain": "StatementMeta(, 18a30102-9cc4-408f-87e9-73c16a4e0691, 5, Finished, Available, Finished)"
                    },
                    "metadata": {
                    },
                    "output_type": "display_data"
                }
            ],
            "source": [
                "# define function to retrieve information\n",
                "\n",
                "def retrieve_secret(vault_url, secret_name):\n",
                "    try:\n",
                "        value = mssparkutils.credentials.getSecret(vault_url, secret_name)\n",
                "        print(f\"\u2705 Retrieved secret '{secret_name}': {value}\")\n",
                "    except Exception as e:\n",
                "        print(f\"\u274c Failed to retrieve secret '{secret_name}'. Check connection details.\")\n",
                "        print(f\"\ud83d\udd0d Error: {str(e)}\")"
            ]
        },
        {
            "cell_type": "code",
            "execution_count": 4,
            "id": "32e158f2-3a66-4fc3-a6b8-036e1b8088c4",
            "metadata": {
                "microsoft": {
                    "language": "python",
                    "language_group": "synapse_pyspark"
                }
            },
            "outputs": [
                {
                    "data": {
                        "application/vnd.livy.statement-meta+json": {
                            "execution_finish_time": "2025-04-29T10:48:57.8945889Z",
                            "execution_start_time": "2025-04-29T10:48:51.1583465Z",
                            "livy_statement_state": "available",
                            "normalized_state": "finished",
                            "parent_msg_id": "3e761714-4a8e-4b1b-942e-228c915aae40",
                            "queued_time": "2025-04-29T10:48:39.1046261Z",
                            "session_id": "18a30102-9cc4-408f-87e9-73c16a4e0691",
                            "session_start_time": null,
                            "spark_pool": null,
                            "state": "finished",
                            "statement_id": 6,
                            "statement_ids": [
                                6
                            ]
                        },
                        "text/plain": "StatementMeta(, 18a30102-9cc4-408f-87e9-73c16a4e0691, 6, Finished, Available, Finished)"
                    },
                    "metadata": {
                    },
                    "output_type": "display_data"
                },
                {
                    "name": "stdout",
                    "output_type": "stream",
                    "text": [
                        "\u2705 Retrieved secret 'secret1': [REDACTED]\n\u2705 Retrieved secret 'secret2': [REDACTED]\n\u2705 Retrieved secret 'secret3': [REDACTED]\n"
                    ]
                }
            ],
            "source": [
                "# Loop through each secret name and attempt retrieval\n",
                "for name in secret_names:\n",
                "    retrieve_secret(keyvault_address, name)"
            ]
        }
    ],
    "metadata": {
        "dependencies": {
        },
        "kernel_info": {
            "name": "synapse_pyspark"
        },
        "kernelspec": {
            "display_name": "Synapse PySpark",
            "language": "Python",
            "name": "synapse_pyspark"
        },
        "language_info": {
            "name": "python"
        },
        "microsoft": {
            "language": "python",
            "language_group": "synapse_pyspark",
            "ms_spell_check": {
                "ms_spell_check_language": "en"
            }
        },
        "nteract": {
            "version": "nteract-front-end@1.0.0"
        },
        "spark_compute": {
            "compute_id": "/trident/default",
            "session_options": {
                "conf": {
                    "spark.synapse.nbs.session.timeout": "1200000"
                }
            }
        }
    },
    "nbformat": 4,
    "nbformat_minor": 5
}